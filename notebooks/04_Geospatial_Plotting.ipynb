{
 "cells": [
  {
   "cell_type": "code",
   "execution_count": 1,
   "id": "e31e01c2-8973-49d0-8cf8-e1136bb9bfdb",
   "metadata": {},
   "outputs": [
    {
     "name": "stderr",
     "output_type": "stream",
     "text": [
      "C:\\Users\\moein\\anaconda3\\envs\\citi_2022\\lib\\site-packages\\keplergl\\keplergl.py:2: UserWarning: pkg_resources is deprecated as an API. See https://setuptools.pypa.io/en/latest/pkg_resources.html. The pkg_resources package is slated for removal as early as 2025-11-30. Refrain from using this package or pin to Setuptools<81.\n",
      "  from pkg_resources import resource_string\n"
     ]
    },
    {
     "data": {
      "text/plain": [
       "(        date  rides  member_share  avg_temp_c\n",
       " 0 2022-01-01    592      0.543919        11.6\n",
       " 1 2022-01-02   1248      0.584936        11.4\n",
       " 2 2022-01-03    832      0.772837         1.4\n",
       " 3 2022-01-04    934      0.776231        -2.7\n",
       " 4 2022-01-05    914      0.750547         3.2,\n",
       " (365, 4))"
      ]
     },
     "execution_count": 1,
     "metadata": {},
     "output_type": "execute_result"
    }
   ],
   "source": [
    "# ---- Import libraries & load data ----\n",
    "import pandas as pd\n",
    "from keplergl import KeplerGl\n",
    "from pathlib import Path\n",
    "from IPython.display import IFrame\n",
    "import json\n",
    "\n",
    "PROC_DIR   = Path(r'C:\\Users\\moein\\anaconda3\\citi-bike-2022-weather\\data\\processed')\n",
    "REPORT_DIR = Path(r\"C:\\Users\\moein\\anaconda3\\citi-bike-2022-weather\\data\\reports\\map\")\n",
    "REPORT_DIR.mkdir(parents=True, exist_ok=True)\n",
    "\n",
    "daily_path = PROC_DIR / \"citibike_2022_daily_with_weather.csv\"\n",
    "trips_path = PROC_DIR / \"citibike_2022_trips_with_weather.csv\"\n",
    "\n",
    "daily = pd.read_csv(daily_path, parse_dates=[\"date\"])\n",
    "trips = pd.read_csv(trips_path, parse_dates=[\"started_at\", \"ended_at\"])\n",
    "daily.head(), daily.shape"
   ]
  },
  {
   "cell_type": "code",
   "execution_count": 3,
   "id": "f430ff9a-8949-44a9-8da0-3787a77182ed",
   "metadata": {},
   "outputs": [
    {
     "data": {
      "text/plain": [
       "(            ride_id  rideable_type          started_at            ended_at  \\\n",
       " 0  CA5837152804D4B5  electric_bike 2022-01-26 18:50:39 2022-01-26 18:51:53   \n",
       " 1  BA06A5E45B6601D2   classic_bike 2022-01-28 13:14:07 2022-01-28 13:20:23   \n",
       " 2  7B6827D7B9508D93   classic_bike 2022-01-10 19:55:13 2022-01-10 20:00:37   \n",
       " 3  6E5864EA6FCEC90D  electric_bike 2022-01-26 07:54:57 2022-01-26 07:55:22   \n",
       " 4  E24954255BBDE32D  electric_bike 2022-01-13 18:44:46 2022-01-13 18:45:43   \n",
       " \n",
       "      start_station_name start_station_id      end_station_name end_station_id  \\\n",
       " 0  12 St & Sinatra Dr N            HB201  12 St & Sinatra Dr N          HB201   \n",
       " 1      Essex Light Rail            JC038      Essex Light Rail          JC038   \n",
       " 2      Essex Light Rail            JC038      Essex Light Rail          JC038   \n",
       " 3  12 St & Sinatra Dr N            HB201  12 St & Sinatra Dr N          HB201   \n",
       " 4  12 St & Sinatra Dr N            HB201  12 St & Sinatra Dr N          HB201   \n",
       " \n",
       "    start_lat  start_lng    end_lat    end_lng member_type        date  \\\n",
       " 0  40.750604 -74.024020  40.750604 -74.024020      member  2022-01-26   \n",
       " 1  40.712774 -74.036486  40.712774 -74.036486      member  2022-01-28   \n",
       " 2  40.712774 -74.036486  40.712774 -74.036486      member  2022-01-10   \n",
       " 3  40.750604 -74.024020  40.750604 -74.024020      member  2022-01-26   \n",
       " 4  40.750604 -74.024020  40.750604 -74.024020      member  2022-01-13   \n",
       " \n",
       "    avg_temp_c  \n",
       " 0        -2.3  \n",
       " 1         0.1  \n",
       " 2         1.6  \n",
       " 3        -2.3  \n",
       " 4         4.0  ,\n",
       " (895485, 15))"
      ]
     },
     "execution_count": 3,
     "metadata": {},
     "output_type": "execute_result"
    }
   ],
   "source": [
    "trips.head(), trips.shape"
   ]
  },
  {
   "cell_type": "code",
   "execution_count": 4,
   "id": "46c10a9a-e22e-4a1e-8904-eaef4b0e5141",
   "metadata": {},
   "outputs": [
    {
     "data": {
      "text/plain": [
       "(      start_station_name start_station_id  start_lat  start_lng  \\\n",
       " 0  11 St & Washington St            HB502  40.747251 -74.027879   \n",
       " 1  11 St & Washington St            HB502  40.747251 -74.027879   \n",
       " 2  11 St & Washington St            HB502  40.749625 -74.027652   \n",
       " 3  11 St & Washington St            HB502  40.749716 -74.027232   \n",
       " 4  11 St & Washington St            HB502  40.749737 -74.027317   \n",
       " \n",
       "                            end_station_name end_station_id    end_lat  \\\n",
       " 0                     11 St & Washington St          HB502  40.749985   \n",
       " 1                      12 St & Sinatra Dr N          HB201  40.750604   \n",
       " 2  Hoboken Terminal - Hudson St & Hudson Pl          HB101  40.735938   \n",
       " 3          Church Sq Park - 5 St & Park Ave          HB601  40.742659   \n",
       " 4                        Willow Ave & 12 St          HB505  40.751867   \n",
       " \n",
       "      end_lng  trips  \n",
       " 0 -74.027150      1  \n",
       " 1 -74.024020      1  \n",
       " 2 -74.030305      1  \n",
       " 3 -74.032233      1  \n",
       " 4 -74.030377      1  ,\n",
       " (120351, 9))"
      ]
     },
     "execution_count": 4,
     "metadata": {},
     "output_type": "execute_result"
    }
   ],
   "source": [
    "# ---- Aggregate trips by station pairs ----\n",
    "\n",
    "# 1) Helper flag to count rows\n",
    "trips[\"value\"] = 1\n",
    "\n",
    "# 2) Select minimal columns needed for flows\n",
    "cols = [\n",
    "    \"start_station_name\", \"start_station_id\", \"start_lat\", \"start_lng\",\n",
    "    \"end_station_name\", \"end_station_id\", \"end_lat\", \"end_lng\",\n",
    "    \"value\"]\n",
    "missing = [c for c in cols if c not in trips.columns]\n",
    "assert not missing, f\"Missing Columns: {missing}\"\n",
    "\n",
    "# 3) Drop rows without coordinates (keplegl needs lng/lat)\n",
    "_trips = trips.dropna(subset=[\"start_lat\", \"start_lng\", \"end_lat\", \"end_lng\"]).copy()\n",
    "\n",
    "# 4) Aggregate counts per station pair\n",
    "trip_flows = (\n",
    "    _trips\n",
    "    .groupby([\n",
    "        \"start_station_name\", \"start_station_id\", \"start_lat\", \"start_lng\",\n",
    "        \"end_station_name\", \"end_station_id\", \"end_lat\", \"end_lng\"\n",
    "    ], as_index=False)[\"value\"]\n",
    "    .count()\n",
    "    .rename(columns={\"value\": \"trips\"})\n",
    ")\n",
    "\n",
    "trip_flows.head(), trip_flows.shape"
   ]
  },
  {
   "cell_type": "code",
   "execution_count": 5,
   "id": "af8849e7-7785-4bee-95dc-286183d0698a",
   "metadata": {},
   "outputs": [
    {
     "data": {
      "text/plain": [
       "(892281, 893515)"
      ]
     },
     "execution_count": 5,
     "metadata": {},
     "output_type": "execute_result"
    }
   ],
   "source": [
    "trip_flows[\"trips\"].sum(), len(_trips)"
   ]
  },
  {
   "cell_type": "code",
   "execution_count": 6,
   "id": "50c39803-ccd6-49fb-bfe6-8943de0292ec",
   "metadata": {},
   "outputs": [
    {
     "name": "stdout",
     "output_type": "stream",
     "text": [
      "User Guide: https://docs.kepler.gl/docs/keplergl-jupyter\n",
      "Map saved to citibike_trip_flows_2022.html!\n"
     ]
    },
    {
     "data": {
      "text/html": [
       "\n",
       "        <iframe\n",
       "            width=\"100%\"\n",
       "            height=\"720\"\n",
       "            src=\"citibike_trip_flows_2022.html\"\n",
       "            frameborder=\"0\"\n",
       "            allowfullscreen\n",
       "            \n",
       "        ></iframe>\n",
       "        "
      ],
      "text/plain": [
       "<IPython.lib.display.IFrame at 0x1946c0d93c0>"
      ]
     },
     "execution_count": 6,
     "metadata": {},
     "output_type": "execute_result"
    }
   ],
   "source": [
    "# ---- Initiate a Kepler.Gl map ----\n",
    "m = KeplerGl(height=720, data={\"Trip Flows\": trip_flows})\n",
    "m.save_to_html(file_name=\"citibike_trip_flows_2022.html\",\n",
    "               read_only=False, config=m.config)\n",
    "IFrame(\"citibike_trip_flows_2022.html\", width=\"100%\", height=720)"
   ]
  },
  {
   "cell_type": "markdown",
   "id": "bd96c437-11fc-4b9b-85f9-a5620ffa8cf4",
   "metadata": {},
   "source": [
    "## Map Styling Rationale\n",
    "\n",
    "- I set **start** and **end** stations as **neutral point layers** so they don’t compete with the flow layer visually.  \n",
    "- I used an **Arc layer** to depict **start → end** flows and mapped **color** to `trips`. A darker/more intense color indicates more traffic; this makes the busiest connections pop at a glance.  \n",
    "- I kept **radius/width** modest and reduced **opacity** to avoid overplotting while preserving density cues.  \n",
    "- I deleted redundant autogenerated layers to keep the visual narrative tight: **stations (context)** + **flows (insight)**."
   ]
  },
  {
   "cell_type": "markdown",
   "id": "59d0521a-8dbf-4ef9-b318-8475d086ec3e",
   "metadata": {},
   "source": [
    "## Findings from Filtering (NYC 2022 Trips)\n",
    "\n",
    "- Increasing the **`trips`** threshold quickly isolates a core network of high-volume flows centered in **Manhattan**, especially around **Midtown**, **Downtown**, and key river crossings.  \n",
    "- **Tourist and commuter hotspots** (e.g., Central Park periphery, Times Square, Wall Street, and Grand Central area) sustain the densest connections.  \n",
    "- The map shows strong clustering where **employment centers**, **tourism landmarks**, and **dense station coverage** overlap.  \n",
    "- **Impression:** demand is heavily concentrated along business and tourist corridors. This suggests that **capacity planning and bike redistribution** should prioritize these high-traffic zones to reduce shortages and improve service reliability.\n"
   ]
  },
  {
   "cell_type": "code",
   "execution_count": 7,
   "id": "beb7dff5-fa48-4edc-b434-6e0c09a29ea4",
   "metadata": {},
   "outputs": [
    {
     "name": "stdout",
     "output_type": "stream",
     "text": [
      "Map saved to citibike_trip_flows_2022.html!\n"
     ]
    }
   ],
   "source": [
    "# capture UI config so the styling is reproducible\n",
    "config = m.config\n",
    "\n",
    "# export interactive HTML (opens in any browser)\n",
    "m.save_to_html(\n",
    "    file_name=\"citibike_trip_flows_2022.html\",\n",
    "    read_only=False,\n",
    "    config=config\n",
    ")\n",
    "\n",
    "# also save the config to JSON for versioning\n",
    "import json\n",
    "with open(\"kepler_config_trip_flows.json\", \"w\") as f:\n",
    "    json.dump(config, f)"
   ]
  },
  {
   "cell_type": "code",
   "execution_count": 8,
   "id": "d3bc1069-12d2-4f04-9897-eadabec7da59",
   "metadata": {},
   "outputs": [
    {
     "name": "stdout",
     "output_type": "stream",
     "text": [
      "Map saved to C:\\Users\\moein\\anaconda3\\citi-bike-2022-weather\\data\\reports\\map\\citibike_trip_flows_2022.html!\n",
      "Saved HTML to: C:\\Users\\moein\\anaconda3\\citi-bike-2022-weather\\data\\reports\\map\\citibike_trip_flows_2022.html\n",
      "Saved config to: C:\\Users\\moein\\anaconda3\\citi-bike-2022-weather\\data\\reports\\map\\kepler_config_trip_flows.json\n"
     ]
    }
   ],
   "source": [
    "html_path = REPORT_DIR / \"citibike_trip_flows_2022.html\"\n",
    "json_path = REPORT_DIR / \"kepler_config_trip_flows.json\"\n",
    "\n",
    "m.save_to_html(file_name=str(html_path), read_only=False, config=config)\n",
    "\n",
    "with open(json_path, \"w\", encoding=\"utf-8\") as f:\n",
    "    json.dump(config, f, ensure_ascii=False, indent=2)\n",
    "\n",
    "print(f\"Saved HTML to: {html_path}\")\n",
    "print(f\"Saved config to: {json_path}\")"
   ]
  },
  {
   "cell_type": "code",
   "execution_count": null,
   "id": "212b50d0-9f48-4731-b177-f8fad3b79077",
   "metadata": {},
   "outputs": [],
   "source": []
  }
 ],
 "metadata": {
  "kernelspec": {
   "display_name": "Python 3 (ipykernel)",
   "language": "python",
   "name": "python3"
  },
  "language_info": {
   "codemirror_mode": {
    "name": "ipython",
    "version": 3
   },
   "file_extension": ".py",
   "mimetype": "text/x-python",
   "name": "python",
   "nbconvert_exporter": "python",
   "pygments_lexer": "ipython3",
   "version": "3.10.18"
  }
 },
 "nbformat": 4,
 "nbformat_minor": 5
}
